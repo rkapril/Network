{
 "cells": [
  {
   "cell_type": "code",
   "execution_count": 6,
   "metadata": {},
   "outputs": [
    {
     "name": "stdout",
     "output_type": "stream",
     "text": [
      "Reply from 8.8.8.8, 29 bytes in 2.9ms\n",
      "Reply from 8.8.8.8, 29 bytes in 2.75ms\n",
      "Reply from 8.8.8.8, 29 bytes in 2.88ms\n",
      "Reply from 8.8.8.8, 29 bytes in 2.83ms\n"
     ]
    },
    {
     "data": {
      "text/plain": [
       "Reply from 8.8.8.8, 29 bytes in 2.9ms\n",
       "Reply from 8.8.8.8, 29 bytes in 2.75ms\n",
       "Reply from 8.8.8.8, 29 bytes in 2.88ms\n",
       "Reply from 8.8.8.8, 29 bytes in 2.83ms\n",
       "\n",
       "Round Trip Times min/avg/max is 2.75/2.84/2.9 ms"
      ]
     },
     "execution_count": 6,
     "metadata": {},
     "output_type": "execute_result"
    }
   ],
   "source": [
    "from pythonping import ping\n",
    "\n",
    "ping('8.8.8.8', verbose=True)"
   ]
  },
  {
   "cell_type": "code",
   "execution_count": 7,
   "metadata": {},
   "outputs": [
    {
     "data": {
      "text/plain": [
       "Reply from 8.8.8.8, 68 bytes in 3.31ms\n",
       "Reply from 8.8.8.8, 68 bytes in 3.15ms\n",
       "Reply from 8.8.8.8, 68 bytes in 3.15ms\n",
       "Reply from 8.8.8.8, 68 bytes in 3.13ms\n",
       "Reply from 8.8.8.8, 68 bytes in 3.24ms\n",
       "Reply from 8.8.8.8, 68 bytes in 3.07ms\n",
       "Reply from 8.8.8.8, 68 bytes in 2.9ms\n",
       "Reply from 8.8.8.8, 68 bytes in 2.92ms\n",
       "Reply from 8.8.8.8, 68 bytes in 3.09ms\n",
       "Reply from 8.8.8.8, 68 bytes in 3.13ms\n",
       "\n",
       "Round Trip Times min/avg/max is 2.9/3.11/3.31 ms"
      ]
     },
     "execution_count": 7,
     "metadata": {},
     "output_type": "execute_result"
    }
   ],
   "source": [
    "ping('8.8.8.8', size=40, count=10)"
   ]
  },
  {
   "cell_type": "code",
   "execution_count": 8,
   "metadata": {},
   "outputs": [
    {
     "name": "stdout",
     "output_type": "stream",
     "text": [
      "UP 8.8.8.8 Ping Successful\n",
      "\n",
      "Pinging 8.8.8.8 with 32 bytes of data:\n",
      "Reply from 8.8.8.8: bytes=32 time=2ms TTL=115\n",
      "Reply from 8.8.8.8: bytes=32 time=3ms TTL=115\n",
      "Reply from 8.8.8.8: bytes=32 time=3ms TTL=115\n",
      "Reply from 8.8.8.8: bytes=32 time=3ms TTL=115\n",
      "\n",
      "Ping statistics for 8.8.8.8:\n",
      "    Packets: Sent = 4, Received = 4, Lost = 0 (0% loss),\n",
      "Approximate round trip times in milli-seconds:\n",
      "    Minimum = 2ms, Maximum = 3ms, Average = 2ms\n",
      "\n"
     ]
    }
   ],
   "source": [
    "import os\n",
    "\n",
    "ip_list = ['8.8.8.8']\n",
    "for ip in ip_list:\n",
    "    response = os.popen(f\"ping {ip}\").read()\n",
    "    if \"Received = 4\" in response:\n",
    "        print(f\"UP {ip} Ping Successful\")\n",
    "        print(response)\n",
    "    else:\n",
    "        print(f\"DOWN {ip} Ping Unsuccessful\")"
   ]
  },
  {
   "cell_type": "code",
   "execution_count": 9,
   "metadata": {},
   "outputs": [],
   "source": [
    "# import modules\n",
    "from tkinter import *\n",
    "from pythonping import ping\n",
    " \n",
    "def get_ping():\n",
    "    result = ping(e.get(), verbose=True)\n",
    "    res.set(result)\n",
    " \n",
    "# object of tkinter\n",
    "# and background set for light grey\n",
    "master = Tk()\n",
    "master.configure(bg='light grey')\n",
    " \n",
    "# Variable Classes in tkinter\n",
    "res = StringVar()\n",
    " \n",
    "# Creating label for each information\n",
    "# name using widget Label\n",
    "Label(master, text=\"Enter URL or IP :\",\n",
    "      bg=\"light grey\").grid(row=0, sticky=W)\n",
    "Label(master, text=\"Result :\", bg=\"light grey\").grid(row=1, sticky=W)\n",
    " \n",
    "# Creating label for class variable\n",
    "# name using widget Entry\n",
    "Label(master, text=\"\", textvariable=res, bg=\"light grey\").grid(\n",
    "    row=1, column=1, sticky=W)\n",
    " \n",
    "e = Entry(master)\n",
    "e.grid(row=0, column=1)\n",
    " \n",
    "# creating a button using the widget\n",
    "# Button that will call the submit function\n",
    "b = Button(master, text=\"Show\", command=get_ping)\n",
    "b.grid(row=0, column=2, columnspan=2, rowspan=2, padx=5, pady=5)\n",
    " \n",
    "mainloop()"
   ]
  }
 ],
 "metadata": {
  "kernelspec": {
   "display_name": "Python 3.10.5 ('py310')",
   "language": "python",
   "name": "python3"
  },
  "language_info": {
   "codemirror_mode": {
    "name": "ipython",
    "version": 3
   },
   "file_extension": ".py",
   "mimetype": "text/x-python",
   "name": "python",
   "nbconvert_exporter": "python",
   "pygments_lexer": "ipython3",
   "version": "3.10.5"
  },
  "orig_nbformat": 4,
  "vscode": {
   "interpreter": {
    "hash": "3b4edd886f7acbcb9059822f9a2875807093b4966942d8390c16212069d2de1b"
   }
  }
 },
 "nbformat": 4,
 "nbformat_minor": 2
}
